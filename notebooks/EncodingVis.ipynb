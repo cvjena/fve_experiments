{
 "cells": [
  {
   "cell_type": "code",
   "execution_count": 1,
   "metadata": {},
   "outputs": [],
   "source": [
    "%load_ext autoreload\n",
    "%autoreload 2"
   ]
  },
  {
   "cell_type": "code",
   "execution_count": 38,
   "metadata": {},
   "outputs": [
    {
     "name": "stdout",
     "output_type": "stream",
     "text": [
      "Chainer version: 7.7.0\n"
     ]
    }
   ],
   "source": [
    "import numpy as np\n",
    "import chainer\n",
    "import cv2\n",
    "import abc\n",
    "import sys\n",
    "\n",
    "from chainer import functions as F\n",
    "\n",
    "from ipywidgets import interactive\n",
    "from tabulate import tabulate\n",
    "\n",
    "from matplotlib import pyplot as plt\n",
    "from dataclasses import dataclass\n",
    "from typing import Tuple\n",
    "\n",
    "from fve_layer.backends.chainer import links\n",
    "\n",
    "print(f\"Chainer version: {chainer.__version__}\")\n",
    "\n",
    "chainer.config.train = False"
   ]
  },
  {
   "cell_type": "markdown",
   "metadata": {},
   "source": [
    "# Arguments"
   ]
  },
  {
   "cell_type": "code",
   "execution_count": 53,
   "metadata": {},
   "outputs": [],
   "source": [
    "@dataclass\n",
    "class Args:\n",
    "    n_components:       int     = 1\n",
    "    n_dims:             int     = 2\n",
    "        \n",
    "    init_mu:            float   = 0\n",
    "    rnd_mu:             bool    = False\n",
    "    init_sig:           float   = 1\n",
    "    eps:                float   = 1e-2\n",
    "        \n",
    "    x_range:            Tuple[float, float] = (-1000, 1000)\n",
    "    y_range:            Tuple[float, float] = (-1000, 1000)\n",
    "    n_samples:          int     = 99\n",
    "\n"
   ]
  },
  {
   "cell_type": "markdown",
   "metadata": {},
   "source": [
    "# Data and Layer initializers"
   ]
  },
  {
   "cell_type": "code",
   "execution_count": 55,
   "metadata": {},
   "outputs": [],
   "source": [
    "def new_layer(args: Args, mu=None, sig=None, N=None):\n",
    "    \n",
    "    init_mu = args.init_mu if mu is None else mu\n",
    "    n_comp = args.n_components if N is None else N\n",
    "    \n",
    "    # the random mu initialization (uniform in [-init_mu, init_mu]) is realized by the layer\n",
    "    if not args.rnd_mu:\n",
    "        init_mu = np.full((args.n_dims, n_comp), init_mu, dtype=np.float32)\n",
    "        \n",
    "\n",
    "    layer = links.FVELayer_noEM(\n",
    "        in_size=args.n_dims,\n",
    "        n_components=n_comp,\n",
    "\n",
    "        init_mu=init_mu,\n",
    "        init_sig=args.init_sig if sig is None else sig,\n",
    "\n",
    "        eps=args.eps\n",
    "    )\n",
    "    layer.cleargrads()\n",
    "\n",
    "    return layer\n",
    "\n",
    "\n",
    "def new_data(args: Args):\n",
    "    \n",
    "    xs,ys = [np.linspace(*r, num=args.n_samples) for r in [args.x_range, args.y_range]]\n",
    "    grid = np.stack(np.meshgrid(ys, xs), axis=2).astype(np.float32)\n",
    "    return grid\n"
   ]
  },
  {
   "cell_type": "markdown",
   "metadata": {},
   "source": [
    "# Plotting helper"
   ]
  },
  {
   "cell_type": "code",
   "execution_count": 134,
   "metadata": {},
   "outputs": [],
   "source": [
    "def _norm(arr, axis=(0,1)):\n",
    "    _min = arr.min(axis=axis)\n",
    "    arr[:] -= _min\n",
    "    _max = arr.max(axis=axis, keepdims=True)\n",
    "    _max_mask = _max != 0\n",
    "    if _max_mask.any():\n",
    "        arr_mask = np.broadcast_to(_max_mask, arr.shape)\n",
    "        arr[arr_mask] /= np.broadcast_to(_max, arr.shape)[arr_mask]\n",
    "    \n",
    "    return _min, np.squeeze(_max)\n",
    "\n",
    "def _denorm(arr, _min, _max):\n",
    "    _max_mask = _max != 0\n",
    "    if _max_mask.any():\n",
    "        arr = arr.copy()\n",
    "        arr[_max_mask] *= _max[_max_mask] \n",
    "\n",
    "    return arr + _min\n",
    "\n",
    "def _imshow(args, ax, im, *, title=None, YUV2RGB=False, display_values=True, ndecimals=4):\n",
    "    assert im.shape[-1] >= 2\n",
    "    im = getattr(im, \"array\", im)\n",
    "    \n",
    "    _im = np.zeros(im.shape[:-1] + (3,), dtype=im.dtype)\n",
    "    _im[..., 1:] = im[..., :2].copy()\n",
    "    \n",
    "    _min, _max = _norm(_im)\n",
    "    \n",
    "    if YUV2RGB:\n",
    "        _im = cv2.cvtColor(_im, cv2.COLOR_YUV2RGB)\n",
    "\n",
    "    _norm(_im)\n",
    "    _im[..., 0] = 0\n",
    "\n",
    "    ax.imshow(_im.round(ndecimals), extent=args.x_range + args.y_range, origin=\"lower\")\n",
    "    \n",
    "    if title is not None:\n",
    "        ax.set_title(title)\n",
    "    ax.set_xlabel(\"X\")\n",
    "    ax.set_ylabel(\"Y\")\n",
    "    \n",
    "    \n",
    "    if display_values:\n",
    "        N = 5\n",
    "        h, w, _ = _im.shape\n",
    "        xs = np.linspace(*args.x_range, N)\n",
    "        ys = np.linspace(*args.y_range, N)\n",
    "        _js = np.linspace(0, w-1, N).astype(int)\n",
    "        _is = np.linspace(0, h-1, N).astype(int)\n",
    "\n",
    "        fmt = \"\\n\".join([\"{x} | {y}\", \"R={0: .2f}\", \"G={1: .2f}\", \"B={2: .2f}\"])\n",
    "        for y, i in zip(ys, _is):\n",
    "            for x, j in zip(xs, _js):\n",
    "                \n",
    "                text = fmt.format(*_denorm(_im[i, j], _min, _max), x=x, y=y)\n",
    "                if i == _is.min():\n",
    "                    verticalalignment = \"bottom\"\n",
    "                elif i == _is.max():\n",
    "                    verticalalignment = \"top\"\n",
    "                else:\n",
    "                    verticalalignment = \"center\"\n",
    "                    \n",
    "                if j == _js.min():\n",
    "                    horizontalalignment = \"left\"\n",
    "                elif j == _js.max():\n",
    "                    horizontalalignment = \"right\"\n",
    "                else:\n",
    "                    horizontalalignment = \"center\"\n",
    "                    \n",
    "                ax.text(x,y, s=text, \n",
    "                        bbox=dict(facecolor=\"white\", alpha=0.5),\n",
    "                        horizontalalignment=horizontalalignment,\n",
    "                        verticalalignment=verticalalignment,\n",
    "                       )\n",
    "                ax.scatter(x, y, marker=\"x\", color=\"white\")\n",
    "                \n"
   ]
  },
  {
   "cell_type": "markdown",
   "metadata": {},
   "source": [
    "# Printing helper\n"
   ]
  },
  {
   "cell_type": "code",
   "execution_count": 135,
   "metadata": {},
   "outputs": [],
   "source": [
    "def _print(mu_sig_w, data_name=\"array\", headers=[\"\\u03BC\", \"\\u03C3\", \"w\"]):\n",
    "    \n",
    "    rows = []\n",
    "    _get = lambda param: getattr(param, data_name, param)\n",
    "    mu, sig, w = map(_get, mu_sig_w)\n",
    "    for i, params in enumerate(zip(mu.T, sig.T, w), 1):\n",
    "        rows.append([f\"Comp #{i}\"] + [p.round(6) for p in params])\n",
    "    print(tabulate(rows, headers=headers, tablefmt=\"fancy_grid\"))\n",
    "\n",
    "def print_arrays(layer):\n",
    "    _print([layer.mu, layer.sig, layer.w], \"array\")\n",
    "    \n",
    "def print_grad(layer, enc_part):\n",
    "    _print([layer.mu, layer._sig, layer._w], \"grad\", \n",
    "           headers=[f\"\\u2202 F{enc_part} / \\u2202 {_}\" for _ in [\"\\u03BC\", \"_\\u03C3\", \"_w\"]])\n",
    "    "
   ]
  },
  {
   "cell_type": "markdown",
   "metadata": {},
   "source": [
    "# Base Plotter class"
   ]
  },
  {
   "cell_type": "code",
   "execution_count": 136,
   "metadata": {},
   "outputs": [],
   "source": [
    "\n",
    "class Plotter(abc.ABC):\n",
    "    __name__ = \"Plotter\"\n",
    "    \n",
    "    def __init__(self, max_comps=10, **kwargs):\n",
    "        self.args = Args(**kwargs)\n",
    "        print(self.args)\n",
    "        self.X = None\n",
    "        self.max_comps = max_comps\n",
    "        \n",
    "    def __call__(self=None, mu=1, sig=1, N=1):\n",
    "        layer = new_layer(self.args, mu, sig, N)\n",
    "        if self.X is None:\n",
    "            self.X = new_data(self.args)\n",
    "        \n",
    "        print_arrays(layer)\n",
    "        self.plot(layer, self.X)\n",
    "        \n",
    "        #plt.tight_layout()\n",
    "        plt.show()\n",
    "        plt.close()\n",
    "    \n",
    "    def encode(self, layer, X):\n",
    "        h, w, c = X.shape\n",
    "        X = chainer.Variable(X)\n",
    "        \n",
    "        enc = layer(X.reshape(h*w, 1, c))\n",
    "        enc = enc.reshape(h*w, 2, layer.n_components, layer.in_size)\n",
    "        \n",
    "        if layer.n_components > self.max_comps:\n",
    "            print(\"More than {0} components! Plotting only the first {0}!\".format(self.max_comps), \n",
    "                  file=sys.stderr)\n",
    "            enc = enc[:, :, :self.max_comps]\n",
    "        \n",
    "        mu_enc, sig_enc = enc[:, 0], enc[:, 1]\n",
    "        \n",
    "        return X, mu_enc, sig_enc\n",
    "        \n",
    "    \n",
    "    def interact(self, height=None,\n",
    "                 mu=(-10, 10, 0.1), \n",
    "                 sig=(0.1, 100, 0.1),\n",
    "                 N=(1, 32, 1)):\n",
    "        _plot = interactive(self, mu=mu, sig=sig, N=N)\n",
    "        \n",
    "        # set fixed size if flickering is annoying\n",
    "        if height is not None:\n",
    "            output = _plot.children[-1]\n",
    "            output.layout.height = f\"{height}px\"\n",
    "        \n",
    "        return _plot\n",
    "        \n",
    "    def plot(self, layer, X):\n",
    "        fig, axs = plt.subplots(1,2, figsize=(16,8))\n",
    "        fig.suptitle(\"Data and the GMM\")\n",
    "        \n",
    "        layer.plot(ax=axs[1])\n",
    "        axs[1].set_xlim(*self.args.x_range)\n",
    "        axs[1].set_ylim(*self.args.y_range)\n",
    "        \n",
    "        _imshow(self.args, axs[0], X, title=\"Data\")\n",
    "        \n",
    "        self.plot_core(layer, X)\n",
    "        \n",
    "    @abc.abstractmethod\n",
    "    def plot_core(self, layer, X):\n",
    "        pass"
   ]
  },
  {
   "cell_type": "code",
   "execution_count": 137,
   "metadata": {
    "scrolled": false
   },
   "outputs": [
    {
     "name": "stdout",
     "output_type": "stream",
     "text": [
      "Args(n_components=1, n_dims=2, init_mu=0, rnd_mu=True, init_sig=1, eps=0, x_range=(-10, 10), y_range=(-10, 10), n_samples=23)\n"
     ]
    },
    {
     "data": {
      "application/vnd.jupyter.widget-view+json": {
       "model_id": "2667af3bd41f4055a658e2349d229fa1",
       "version_major": 2,
       "version_minor": 0
      },
      "text/plain": [
       "interactive(children=(FloatSlider(value=1.0, description='mu', max=10.0, min=-10.0), FloatSlider(value=1.0, de…"
      ]
     },
     "metadata": {},
     "output_type": "display_data"
    }
   ],
   "source": [
    "class EncodingPlotter(Plotter):\n",
    "    \n",
    "    def plot_core(self, layer, X):\n",
    "        n0, n1, c = X.shape\n",
    "        X, mu_enc, sig_enc = self.encode(layer, X)\n",
    "            \n",
    "        n_comp = mu_enc.shape[1]\n",
    "        \n",
    "        \n",
    "        for i in np.arange(n_comp):\n",
    "            \n",
    "            fig, axs = plt.subplots(1, 2, figsize=(16,8))\n",
    "            fig.suptitle(f\"Component #{i}\")\n",
    "            for j, (_x, title) in enumerate(zip([mu_enc, sig_enc], [\"$\\mu$-Part\", \"$\\sigma^2$-Part\"])):\n",
    "                _imshow(self.args, axs[j], _x[:, i].reshape(n0, n1, 2), title=title)\n",
    "\n",
    "\n",
    "plotter = EncodingPlotter(\n",
    "    x_range=(-10, 10),\n",
    "    y_range=(-10, 10),\n",
    "    \n",
    "    eps=0,\n",
    "    \n",
    "    n_samples=23,\n",
    "    \n",
    "    rnd_mu=True,\n",
    ")\n",
    "\n",
    "plotter.interact()"
   ]
  },
  {
   "cell_type": "code",
   "execution_count": 125,
   "metadata": {},
   "outputs": [],
   "source": [
    "class GradPlotter(Plotter):\n",
    "    \n",
    "    def plot_core(self, layer, X):\n",
    "       \n",
    "        n0,n1,c = X.shape\n",
    "        n0, n1, c = X.shape\n",
    "        X, mu_enc, sig_enc = self.encode(layer, X)\n",
    "        \n",
    "        \n",
    "        _title = f\"All components\"\n",
    "        print(f\"=== {_title} ===\")\n",
    "        title_fmt = \"$\\dfrac{{\\partial}}{{\\partial x}}F_{{{param}}}(x)$\" \n",
    "        \n",
    "        enc_names = [\"\\mu\", \"\\sigma^2\", \"\\Theta\"]\n",
    "        encs = [mu_enc, sig_enc, F.concat([mu_enc, sig_enc], axis=1)]\n",
    "        \n",
    "        fig, axs = self.plot_grad(layer, X, encs, enc_names, \n",
    "                                  title_fmt=title_fmt)\n",
    "        fig.suptitle(_title)\n",
    "        \n",
    "        \n",
    "        for i in np.arange(mu_enc.shape[1]):\n",
    "            _title = f\"Component #{i}\"\n",
    "            print(f\"=== {_title} ===\")\n",
    "            \n",
    "            title_fmt = \"$\\dfrac{{\\partial}}{{\\partial x}}F_{{{param}_{{\" + str(i) + \"}}}}(x)$\" \n",
    "\n",
    "            enc_names = [\"\\mu\", \"\\sigma^2\", \"\\Theta\"]\n",
    "            encs = [mu_enc[:, i], sig_enc[:, i]]\n",
    "            encs.append(F.concat(encs, axis=-1))\n",
    "            \n",
    "            fig, axs = self.plot_grad(layer, X, encs, enc_names, \n",
    "                                      title_fmt=title_fmt)\n",
    "\n",
    "            fig.suptitle(_title)\n",
    "        \n",
    "    def plot_grad(self, layer, X, encs, enc_names, *, title_fmt):\n",
    "        \n",
    "        fig, axs = plt.subplots(1, len(encs), figsize=(8*len(encs), 8))\n",
    "        \n",
    "        for ax, _enc, enc_name in zip(axs, encs, enc_names):\n",
    "            X.grad = None\n",
    "            layer.cleargrads()\n",
    "            F.sum(_enc).backward()\n",
    "            title = title_fmt.format(param=enc_name)\n",
    "            if \"mu\" in enc_name:\n",
    "                enc_part = \"\\u03BC\"\n",
    "                \n",
    "            elif \"sig\" in enc_name:\n",
    "                enc_part = \"\\u03C3\"\n",
    "                \n",
    "            else:\n",
    "                enc_part = \"\\u03B8\"\n",
    "                \n",
    "            print_grad(layer, \n",
    "                enc_part=\"\\u03BC\" if \"mu\" in enc_name else \"\\u03C3\" if \"sig\" in enc_name else \"\\u03B8\" )\n",
    "            _imshow(self.args, ax, X.grad, title=title)    \n",
    "            \n",
    "        return fig, axs\n",
    "        "
   ]
  },
  {
   "cell_type": "code",
   "execution_count": 138,
   "metadata": {
    "scrolled": false
   },
   "outputs": [
    {
     "name": "stdout",
     "output_type": "stream",
     "text": [
      "Args(n_components=3, n_dims=2, init_mu=5, rnd_mu=True, init_sig=1, eps=0, x_range=(-10, 10), y_range=(-10, 10), n_samples=99)\n"
     ]
    },
    {
     "data": {
      "application/vnd.jupyter.widget-view+json": {
       "model_id": "90d7bfb6ec684faa9c671c48c8783582",
       "version_major": 2,
       "version_minor": 0
      },
      "text/plain": [
       "interactive(children=(FloatSlider(value=1.0, description='mu', max=10.0, min=-10.0), FloatSlider(value=1.0, de…"
      ]
     },
     "metadata": {},
     "output_type": "display_data"
    }
   ],
   "source": [
    "\n",
    "plotter = GradPlotter(    \n",
    "    x_range=(-10,10),\n",
    "    y_range=(-10,10),\n",
    "    n_components=3,\n",
    "    \n",
    "    init_mu=5,\n",
    "    eps=0,\n",
    "    \n",
    "    n_samples=99,\n",
    "    rnd_mu=True,\n",
    ")\n",
    "\n",
    "plotter.interact()"
   ]
  },
  {
   "cell_type": "code",
   "execution_count": 11,
   "metadata": {},
   "outputs": [
    {
     "data": {
      "text/plain": [
       "(variable _sig([[0., 0.],\n",
       "                [0., 0.]]),\n",
       " variable([[1., 1.],\n",
       "           [1., 1.]]))"
      ]
     },
     "execution_count": 11,
     "metadata": {},
     "output_type": "execute_result"
    }
   ],
   "source": [
    "layer = new_layer(plotter.args)\n",
    "\n",
    "layer._sig, layer.sig"
   ]
  },
  {
   "cell_type": "code",
   "execution_count": null,
   "metadata": {},
   "outputs": [],
   "source": [
    "foo = chainer.Variable(np.random.randn(2,3).astype(np.float32), )"
   ]
  }
 ],
 "metadata": {
  "kernelspec": {
   "display_name": "Python 3",
   "language": "python",
   "name": "python3"
  },
  "language_info": {
   "codemirror_mode": {
    "name": "ipython",
    "version": 3
   },
   "file_extension": ".py",
   "mimetype": "text/x-python",
   "name": "python",
   "nbconvert_exporter": "python",
   "pygments_lexer": "ipython3",
   "version": "3.8.6"
  }
 },
 "nbformat": 4,
 "nbformat_minor": 4
}
