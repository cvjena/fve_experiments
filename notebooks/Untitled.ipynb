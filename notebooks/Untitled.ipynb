{
 "cells": [
  {
   "cell_type": "code",
   "execution_count": 1,
   "metadata": {},
   "outputs": [],
   "source": [
    "import chainer as ch\n",
    "import chainer.links as L\n",
    "import chainer.functions as F\n",
    "import numpy as np\n"
   ]
  },
  {
   "cell_type": "code",
   "execution_count": 63,
   "metadata": {},
   "outputs": [],
   "source": [
    "samples_per_class = 128\n",
    "n_classes = 3\n",
    "N = samples_per_class * n_classes\n",
    "D = 6\n",
    "\n",
    "n_feat_per_class = int(D / n_classes)"
   ]
  },
  {
   "cell_type": "code",
   "execution_count": 74,
   "metadata": {},
   "outputs": [
    {
     "name": "stdout",
     "output_type": "stream",
     "text": [
      "Sequential(\n",
      "  (0): Linear(in_size=6, out_size=6, nobias=False),\n",
      "  (1): <function sigmoid at 0x7fe448e2b550>,\n",
      "  (2): Linear(in_size=6, out_size=3, nobias=False),\n",
      ")\n"
     ]
    }
   ],
   "source": [
    "X = np.zeros((N, D), dtype=np.float32)\n",
    "y = np.zeros(N, dtype=np.int32)\n",
    "\n",
    "hidden = 6\n",
    "\n",
    "clf = ch.Sequential(\n",
    "    L.Linear(in_size=D, out_size=hidden, nobias=False),\n",
    "    F.sigmoid,\n",
    "    L.Linear(in_size=hidden, out_size=n_classes, nobias=False),\n",
    ")\n",
    "\n",
    "print(clf)"
   ]
  },
  {
   "cell_type": "code",
   "execution_count": 75,
   "metadata": {},
   "outputs": [
    {
     "name": "stdout",
     "output_type": "stream",
     "text": [
      "[[ 1.4079204  -0.16718346  0.          0.          0.          0.        ]\n",
      " [ 0.52348113  1.2383301   0.          0.          0.          0.        ]\n",
      " [ 0.6189814   0.17533916  0.          0.          0.          0.        ]\n",
      " ...\n",
      " [ 0.          0.          0.          0.          0.05982428  1.1256186 ]\n",
      " [ 0.          0.          0.          0.         -0.37418064  1.2967849 ]\n",
      " [ 0.          0.          0.          0.          0.65713197 -0.12325769]]\n",
      "[0 0 0 0 0 0 0 0 0 0 0 0 0 0 0 0 0 0 0 0 0 0 0 0 0 0 0 0 0 0 0 0 0 0 0 0 0\n",
      " 0 0 0 0 0 0 0 0 0 0 0 0 0 0 0 0 0 0 0 0 0 0 0 0 0 0 0 0 0 0 0 0 0 0 0 0 0\n",
      " 0 0 0 0 0 0 0 0 0 0 0 0 0 0 0 0 0 0 0 0 0 0 0 0 0 0 0 0 0 0 0 0 0 0 0 0 0\n",
      " 0 0 0 0 0 0 0 0 0 0 0 0 0 0 0 0 0 1 1 1 1 1 1 1 1 1 1 1 1 1 1 1 1 1 1 1 1\n",
      " 1 1 1 1 1 1 1 1 1 1 1 1 1 1 1 1 1 1 1 1 1 1 1 1 1 1 1 1 1 1 1 1 1 1 1 1 1\n",
      " 1 1 1 1 1 1 1 1 1 1 1 1 1 1 1 1 1 1 1 1 1 1 1 1 1 1 1 1 1 1 1 1 1 1 1 1 1\n",
      " 1 1 1 1 1 1 1 1 1 1 1 1 1 1 1 1 1 1 1 1 1 1 1 1 1 1 1 1 1 1 1 1 1 1 2 2 2\n",
      " 2 2 2 2 2 2 2 2 2 2 2 2 2 2 2 2 2 2 2 2 2 2 2 2 2 2 2 2 2 2 2 2 2 2 2 2 2\n",
      " 2 2 2 2 2 2 2 2 2 2 2 2 2 2 2 2 2 2 2 2 2 2 2 2 2 2 2 2 2 2 2 2 2 2 2 2 2\n",
      " 2 2 2 2 2 2 2 2 2 2 2 2 2 2 2 2 2 2 2 2 2 2 2 2 2 2 2 2 2 2 2 2 2 2 2 2 2\n",
      " 2 2 2 2 2 2 2 2 2 2 2 2 2 2]\n"
     ]
    }
   ],
   "source": [
    "for cls in range(n_classes):\n",
    "    i0 = cls * samples_per_class\n",
    "    i1 = i0  + samples_per_class\n",
    "    \n",
    "    d0 = cls * n_feat_per_class\n",
    "    d1 = d0  + n_feat_per_class\n",
    "    \n",
    "    X[i0: i1, d0: d1] = np.random.random(size=(samples_per_class, n_feat_per_class))*2-0.5\n",
    "    y[i0: i1] = cls\n",
    "    \n",
    "print(X)\n",
    "print(y)"
   ]
  },
  {
   "cell_type": "code",
   "execution_count": 80,
   "metadata": {},
   "outputs": [
    {
     "name": "stdout",
     "output_type": "stream",
     "text": [
      "    1     90.36%    0.18\n",
      "  100     90.36%    0.18\n",
      "  200     90.36%    0.18\n",
      "  300     90.36%    0.18\n",
      "  400     90.36%    0.18\n",
      "  500     90.36%    0.17\n"
     ]
    }
   ],
   "source": [
    "LR = 1e0\n",
    "\n",
    "for i in range(1, 500+1):\n",
    "    \n",
    "\n",
    "    logit = clf(X)\n",
    "    accu = F.accuracy(logit, y)\n",
    "    loss = F.softmax_cross_entropy(logit, y)\n",
    "    if i ==1 or i % 100 == 0:\n",
    "        print(f\"{i: 5d} {float(accu.array): 10.2%} {float(loss.array): 7.2f}\")\n",
    "    \n",
    "    \n",
    "    clf.cleargrads()\n",
    "    loss.backward()\n",
    "    \n",
    "    for p in clf.params():\n",
    "        p.array -= LR * p.grad\n",
    "    "
   ]
  },
  {
   "cell_type": "code",
   "execution_count": 8,
   "metadata": {},
   "outputs": [
    {
     "data": {
      "text/plain": [
       "0.828125"
      ]
     },
     "execution_count": 8,
     "metadata": {},
     "output_type": "execute_result"
    }
   ],
   "source": [
    "from sklearn.svm import LinearSVC\n",
    "\n",
    "svm = LinearSVC()\n",
    "\n",
    "svm.fit(X, y)\n",
    "svm.score(X, y)"
   ]
  },
  {
   "cell_type": "code",
   "execution_count": null,
   "metadata": {},
   "outputs": [],
   "source": []
  }
 ],
 "metadata": {
  "kernelspec": {
   "display_name": "Python 3",
   "language": "python",
   "name": "python3"
  },
  "language_info": {
   "codemirror_mode": {
    "name": "ipython",
    "version": 3
   },
   "file_extension": ".py",
   "mimetype": "text/x-python",
   "name": "python",
   "nbconvert_exporter": "python",
   "pygments_lexer": "ipython3",
   "version": "3.8.6"
  }
 },
 "nbformat": 4,
 "nbformat_minor": 4
}
