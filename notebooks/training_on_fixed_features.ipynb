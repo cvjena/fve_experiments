{
 "cells": [
  {
   "cell_type": "code",
   "execution_count": 86,
   "metadata": {},
   "outputs": [],
   "source": [
    "import chainer\n",
    "import numpy as np\n",
    "import pyaml\n",
    "\n",
    "from typing import Tuple\n",
    "from tqdm.auto import tqdm\n",
    "from dataclasses import dataclass\n",
    "from pathlib import Path\n",
    "\n",
    "from matplotlib import pyplot as plt\n",
    "\n",
    "from fve_layer.backends.chainer.links import FVELayer"
   ]
  },
  {
   "cell_type": "code",
   "execution_count": 92,
   "metadata": {},
   "outputs": [],
   "source": [
    "@dataclass\n",
    "class Args(object):\n",
    "    root:                Path       = Path(\"/home/korsch/Repos/PhD/00_DeepFVE_Layer/fve_layer/example\")\n",
    "    folder:              Path       = Path(\".results/CUB200/sgd/2021-02-08-11.05.01.981530039\")\n",
    "    conv_files:          Tuple[str] = (\"train_convs.npy\", \"val_convs.npy\")\n",
    "        \n",
    "    batch_size:          int        = 6\n",
    "    epochs:              int        = 30\n",
    "    shuffle:             bool       = True\n",
    "    seed:                int        = 42\n",
    "        \n",
    "    mask_features:       bool       = True\n",
    "        \n",
    "    def __str__(self):\n",
    "        return pyaml.dump(self.__dict__, sort_dicts=False)"
   ]
  },
  {
   "cell_type": "code",
   "execution_count": 93,
   "metadata": {},
   "outputs": [
    {
     "name": "stdout",
     "output_type": "stream",
     "text": [
      "root: /home/korsch/Repos/PhD/00_DeepFVE_Layer/fve_layer/example\n",
      "folder: .results/CUB200/sgd/2021-02-08-11.05.01.981530039\n",
      "conv_files:\n",
      "  - train_convs.npy\n",
      "  - val_convs.npy\n",
      "batch_size: 6\n",
      "epochs: 30\n",
      "shuffle: true\n",
      "seed: 42\n",
      "mask_features: true\n",
      "\n"
     ]
    }
   ],
   "source": [
    "args = Args()\n",
    "\n",
    "print(args)"
   ]
  },
  {
   "cell_type": "code",
   "execution_count": 51,
   "metadata": {},
   "outputs": [
    {
     "name": "stdout",
     "output_type": "stream",
     "text": [
      "(5994, 4, 256, 7, 7)\n",
      "(5794, 4, 256, 7, 7)\n"
     ]
    }
   ],
   "source": [
    "convs = [np.load(args.root / args.folder / file) for file in args.conv_files]\n",
    "\n",
    "print(*[c.shape for c in convs], sep=\"\\n\")"
   ]
  },
  {
   "cell_type": "code",
   "execution_count": 102,
   "metadata": {},
   "outputs": [
    {
     "data": {
      "application/vnd.jupyter.widget-view+json": {
       "model_id": "af971081d5474a309fa2523c770ffd48",
       "version_major": 2,
       "version_minor": 0
      },
      "text/plain": [
       "HBox(children=(HTML(value='Total Progress'), FloatProgress(value=0.0, max=5.0), HTML(value='')))"
      ]
     },
     "metadata": {},
     "output_type": "display_data"
    },
    {
     "data": {
      "application/vnd.jupyter.widget-view+json": {
       "model_id": "db0605a26990437b8ec674bbda9a63b7",
       "version_major": 2,
       "version_minor": 0
      },
      "text/plain": [
       "HBox(children=(HTML(value='Epoch Progress'), FloatProgress(value=0.0, max=750.0), HTML(value='')))"
      ]
     },
     "metadata": {},
     "output_type": "display_data"
    },
    {
     "name": "stdout",
     "output_type": "stream",
     "text": [
      "\n",
      "\n"
     ]
    },
    {
     "data": {
      "application/vnd.jupyter.widget-view+json": {
       "model_id": "2342729e857d49f79f2bd402852747cc",
       "version_major": 2,
       "version_minor": 0
      },
      "text/plain": [
       "HBox(children=(HTML(value='Total Progress'), FloatProgress(value=0.0, max=5.0), HTML(value='')))"
      ]
     },
     "metadata": {},
     "output_type": "display_data"
    },
    {
     "data": {
      "application/vnd.jupyter.widget-view+json": {
       "model_id": "31902f9f9de344c8baad738a5926bcac",
       "version_major": 2,
       "version_minor": 0
      },
      "text/plain": [
       "HBox(children=(HTML(value='Epoch Progress'), FloatProgress(value=0.0, max=750.0), HTML(value='')))"
      ]
     },
     "metadata": {},
     "output_type": "display_data"
    },
    {
     "name": "stdout",
     "output_type": "stream",
     "text": [
      "\n",
      "\n"
     ]
    }
   ],
   "source": [
    "\n",
    "def analyze(conv_maps):\n",
    "    \n",
    "    assert conv_maps.ndim == 5\n",
    "    \n",
    "    # n,t, c, h, w = conv_maps.shape\n",
    "    # NxTxCxHxW -> NxTxHxWxC\n",
    "    # conv_maps = conv_maps.transpose(0,1,3,4, 2)\n",
    "    \n",
    "    mean = conv_maps.mean(axis=(0, 1, 3, 4))\n",
    "    std = conv_maps.std(axis=(0, 1, 3, 4))\n",
    "    \n",
    "    return mean, std    \n",
    "\n",
    "def _transform_feats(feats):\n",
    "    \n",
    "    n, t, c, h, w = feats.shape\n",
    "\n",
    "    # N x T x C x H x W -> N x T x H x W x C\n",
    "    feats = feats.transpose(0, 1, 3, 4, 2)\n",
    "    # N x T x H x W x C -> N x T*H*W x C\n",
    "    feats = feats.reshape(n, t*h*w, c)\n",
    "\n",
    "    return feats\n",
    "\n",
    "def online_estimate(args: Args, conv_maps):\n",
    "    assert conv_maps.ndim == 5\n",
    "    \n",
    "    rnd = np.random.RandomState(args.seed)\n",
    "    \n",
    "    n,t, c, h, w = conv_maps.shape\n",
    "    layer = FVELayer(in_size=c, n_components=1)\n",
    "    \n",
    "    n_batches = np.ceil(n / args.batch_size)\n",
    "    \n",
    "    epochs_bar = tqdm(total=args.epochs, desc=\"Total Progress\")\n",
    "    samples_bar = tqdm(total=int(n_batches), desc=\"Epoch Progress\")\n",
    "    \n",
    "    mus, sigs = [], []\n",
    "    \n",
    "    for epoch in np.arange(args.epochs):\n",
    "    \n",
    "        indices = np.arange(n)\n",
    "\n",
    "        if args.shuffle:\n",
    "            rnd.shuffle(indices)\n",
    "        \n",
    "        samples_bar.reset()\n",
    "        samples_bar.clear()\n",
    "        for i0 in np.arange(n, step=args.batch_size):\n",
    "            \n",
    "            i1 = i0 + args.batch_size\n",
    "            idxs = indices[i0:i1]\n",
    "            \n",
    "            _maps = conv_maps[idxs]\n",
    "            feats = _transform_feats(_maps)\n",
    "            \n",
    "            with chainer.using_config(\"train\", True):\n",
    "                layer(feats, args.mask_features)\n",
    "            \n",
    "            mus.append(layer.mu[:, 0])\n",
    "            sigs.append(layer.sig[:, 0])\n",
    "            samples_bar.update()\n",
    "        epochs_bar.update()\n",
    "    \n",
    "    samples_bar.close()\n",
    "    epochs_bar.close()\n",
    "    \n",
    "    return np.array(mus), np.array(sigs)\n",
    "    mean, std = analyze(conv_maps)\n",
    "    \n",
    "    \n",
    "\n",
    "mu0, sig0 = analyze(conv_maps=convs[1])\n",
    "\n",
    "args = Args(batch_size=8, epochs=5)\n",
    "mu1, sig1 = online_estimate(args, convs[0])\n",
    "\n",
    "args = Args(batch_size=8, epochs=5, mask_features=False)\n",
    "mu2, sig2 = online_estimate(args, convs[0])\n"
   ]
  },
  {
   "cell_type": "code",
   "execution_count": 105,
   "metadata": {},
   "outputs": [],
   "source": [
    "mu_mse1 = np.mean((mu1 - mu0)**2, axis=-1)\n",
    "sig_mse1 = np.mean((sig1 - sig0)**2, axis=-1)\n",
    "\n",
    "mu_mse2 = np.mean((mu2 - mu0)**2, axis=-1)\n",
    "sig_mse2 = np.mean((sig2 - sig0)**2, axis=-1)\n"
   ]
  },
  {
   "cell_type": "code",
   "execution_count": 109,
   "metadata": {},
   "outputs": [
    {
     "data": {
      "image/png": "[encoded data removed]",
      "text/plain": [
       "<Figure size 1152x576 with 2 Axes>"
      ]
     },
     "metadata": {
      "needs_background": "light"
     },
     "output_type": "display_data"
    }
   ],
   "source": [
    "fig, axs = plt.subplots(ncols=2, figsize=(16,8))\n",
    "\n",
    "axs[0].set_title(\"$\\mu$ parameter\")\n",
    "axs[0].plot(mu_mse1, label=\"with feature masking\")\n",
    "axs[0].plot(mu_mse2, label=\"without feature masking\")\n",
    "axs[0].legend()\n",
    "\n",
    "axs[1].set_title(\"$\\sigma^2$ parameter\")\n",
    "axs[1].plot(sig_mse1, label=\"with feature masking\")\n",
    "axs[1].plot(sig_mse2, label=\"without feature masking\")\n",
    "axs[1].legend()\n",
    "\n",
    "plt.show()\n",
    "plt.close()"
   ]
  },
  {
   "cell_type": "code",
   "execution_count": null,
   "metadata": {},
   "outputs": [],
   "source": []
  }
 ],
 "metadata": {
  "kernelspec": {
   "display_name": "Python 3",
   "language": "python",
   "name": "python3"
  },
  "language_info": {
   "codemirror_mode": {
    "name": "ipython",
    "version": 3
   },
   "file_extension": ".py",
   "mimetype": "text/x-python",
   "name": "python",
   "nbconvert_exporter": "python",
   "pygments_lexer": "ipython3",
   "version": "3.8.6"
  }
 },
 "nbformat": 4,
 "nbformat_minor": 4
}
